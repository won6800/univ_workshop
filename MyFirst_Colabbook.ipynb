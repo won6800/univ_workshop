{
  "nbformat": 4,
  "nbformat_minor": 0,
  "metadata": {
    "colab": {
      "provenance": [],
      "authorship_tag": "ABX9TyORQDx/bC5SK+sERS8OfpKA",
      "include_colab_link": true
    },
    "kernelspec": {
      "name": "python3",
      "display_name": "Python 3"
    },
    "language_info": {
      "name": "python"
    }
  },
  "cells": [
    {
      "cell_type": "markdown",
      "metadata": {
        "id": "view-in-github",
        "colab_type": "text"
      },
      "source": [
        "<a href=\"https://colab.research.google.com/github/won6800/univ_workshop/blob/main/MyFirst_Colabbook.ipynb\" target=\"_parent\"><img src=\"https://colab.research.google.com/assets/colab-badge.svg\" alt=\"Open In Colab\"/></a>"
      ]
    },
    {
      "cell_type": "code",
      "execution_count": null,
      "metadata": {
        "id": "UUHR-BYu4XIS"
      },
      "outputs": [],
      "source": []
    },
    {
      "cell_type": "markdown",
      "source": [
        "## My Frist Colab Notebook\n",
        "\n",
        "# Below is a sample program\n"
      ],
      "metadata": {
        "id": "GLTPIDsv4kK-"
      }
    },
    {
      "cell_type": "code",
      "source": [
        "print(\"hello CNU & HBU\")\n"
      ],
      "metadata": {
        "colab": {
          "base_uri": "https://localhost:8080/"
        },
        "id": "KgwqlexZ42Ho",
        "outputId": "6170efb2-1f0a-4edb-c111-bfe90acd20f4"
      },
      "execution_count": 1,
      "outputs": [
        {
          "output_type": "stream",
          "name": "stdout",
          "text": [
            "hello CNU & HBU\n"
          ]
        }
      ]
    },
    {
      "cell_type": "markdown",
      "source": [],
      "metadata": {
        "id": "QcsABnnQ5AXJ"
      }
    },
    {
      "cell_type": "code",
      "source": [],
      "metadata": {
        "id": "PWTpm32x5AqJ"
      },
      "execution_count": null,
      "outputs": []
    }
  ]
}